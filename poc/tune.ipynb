{
 "cells": [
  {
   "cell_type": "code",
   "execution_count": 1,
   "id": "975998c8",
   "metadata": {},
   "outputs": [],
   "source": [
    "import socket, struct, secrets, json\n",
    "# 필요 패키지 import "
   ]
  },
  {
   "cell_type": "code",
   "execution_count": 3,
   "id": "c5f606b7",
   "metadata": {},
   "outputs": [],
   "source": [
    "# 기본 데이터 설정하기\n",
    "DNS_BASE_PORT = 53\n",
    "TARGET_URL = 'example.com'\n",
    "ROOT_DATA_PATH = '../root-dns/dns.json'"
   ]
  },
  {
   "cell_type": "code",
   "execution_count": 4,
   "id": "43873e59",
   "metadata": {},
   "outputs": [],
   "source": [
    "# 루트 서버 데이터 호출\n",
    "with open(ROOT_DATA_PATH, 'r') as dns_list:\n",
    "    root_dns = json.load(dns_list)\n",
    "dns_list.close()\n",
    "root_servers = root_dns['Root-servers'][0]['Ipv4']"
   ]
  },
  {
   "cell_type": "code",
   "execution_count": 5,
   "id": "c192a7f8",
   "metadata": {},
   "outputs": [
    {
     "data": {
      "text/plain": [
       "'198.41.0.4'"
      ]
     },
     "execution_count": 5,
     "metadata": {},
     "output_type": "execute_result"
    }
   ],
   "source": [
    "root_servers"
   ]
  },
  {
   "cell_type": "code",
   "execution_count": 6,
   "id": "886b7849",
   "metadata": {},
   "outputs": [],
   "source": [
    "# 루트 서버 (0)번 요청 패킷 생성\n",
    "transecID = secrets.randbits(16)\n",
    "headers_section = {\n",
    "        # transecID는 2Bytes == 16bit\n",
    "        'Transaction ID' : transecID,\n",
    "        'Flags': 0x0000,\n",
    "        # 모든 값이 루트 질의 NS로 0적용\n",
    "        'QDCOUNT': 1,\n",
    "        'ANCOUNT': 0,\n",
    "        'NSCOUNT': 0,\n",
    "        'ARCOUNT': 0,\n",
    "    }\n",
    "header_pack = struct.pack('!HHHHHH', \\\n",
    "        headers_section['Transaction ID'],\n",
    "        headers_section['Flags'],\n",
    "        headers_section['QDCOUNT'],\n",
    "        headers_section['ANCOUNT'],\n",
    "        headers_section['NSCOUNT'],\n",
    "        headers_section['ARCOUNT'])\n",
    "    \n",
    "Question_section = {\n",
    "        'QNAME': TARGET_URL,\n",
    "        'QTYPE': 1,\n",
    "        # A  레코드 조회\n",
    "        'QCLASS': 1\n",
    "    }\n",
    "    # Qname 처리\n",
    "qname_bytes = b''\n",
    "for domain in str(Question_section['QNAME']).split('.'):\n",
    "        if not domain:\n",
    "            continue\n",
    "        qname_bytes += struct.pack('!B', len(domain))\n",
    "        qname_bytes += domain.encode('ascii')\n",
    "qname_bytes += b'\\x00'\n",
    "    \n",
    "    # QS 섹션 패킹\n",
    "qs_pack = struct.pack('!HH', \n",
    "        Question_section['QTYPE'],\n",
    "        Question_section['QCLASS'])\n",
    "\n",
    "packet = (header_pack + qname_bytes + qs_pack), transecID"
   ]
  },
  {
   "cell_type": "code",
   "execution_count": 9,
   "id": "289436e0",
   "metadata": {},
   "outputs": [
    {
     "data": {
      "text/plain": [
       "b'\\x1f{\\x00\\x00\\x00\\x01\\x00\\x00\\x00\\x00\\x00\\x00\\x07example\\x03com\\x00\\x00\\x01\\x00\\x01'"
      ]
     },
     "execution_count": 9,
     "metadata": {},
     "output_type": "execute_result"
    }
   ],
   "source": [
    "packet[0]"
   ]
  },
  {
   "cell_type": "code",
   "execution_count": 14,
   "id": "217cd016",
   "metadata": {},
   "outputs": [
    {
     "name": "stdout",
     "output_type": "stream",
     "text": [
      "b'\\x1f{\\x82\\x00\\x00\\x01\\x00\\x00\\x00\\r\\x00\\x0b\\x07example\\x03com\\x00\\x00\\x01\\x00\\x01\\xc0\\x14\\x00\\x02\\x00\\x01\\x00\\x02\\xa3\\x00\\x00\\x14\\x01l\\x0cgtld-servers\\x03net\\x00\\xc0\\x14\\x00\\x02\\x00\\x01\\x00\\x02\\xa3\\x00\\x00\\x04\\x01j\\xc0+\\xc0\\x14\\x00\\x02\\x00\\x01\\x00\\x02\\xa3\\x00\\x00\\x04\\x01h\\xc0+\\xc0\\x14\\x00\\x02\\x00\\x01\\x00\\x02\\xa3\\x00\\x00\\x04\\x01d\\xc0+\\xc0\\x14\\x00\\x02\\x00\\x01\\x00\\x02\\xa3\\x00\\x00\\x04\\x01b\\xc0+\\xc0\\x14\\x00\\x02\\x00\\x01\\x00\\x02\\xa3\\x00\\x00\\x04\\x01f\\xc0+\\xc0\\x14\\x00\\x02\\x00\\x01\\x00\\x02\\xa3\\x00\\x00\\x04\\x01k\\xc0+\\xc0\\x14\\x00\\x02\\x00\\x01\\x00\\x02\\xa3\\x00\\x00\\x04\\x01m\\xc0+\\xc0\\x14\\x00\\x02\\x00\\x01\\x00\\x02\\xa3\\x00\\x00\\x04\\x01i\\xc0+\\xc0\\x14\\x00\\x02\\x00\\x01\\x00\\x02\\xa3\\x00\\x00\\x04\\x01g\\xc0+\\xc0\\x14\\x00\\x02\\x00\\x01\\x00\\x02\\xa3\\x00\\x00\\x04\\x01a\\xc0+\\xc0\\x14\\x00\\x02\\x00\\x01\\x00\\x02\\xa3\\x00\\x00\\x04\\x01c\\xc0+\\xc0\\x14\\x00\\x02\\x00\\x01\\x00\\x02\\xa3\\x00\\x00\\x04\\x01e\\xc0+\\xc0)\\x00\\x01\\x00\\x01\\x00\\x02\\xa3\\x00\\x00\\x04\\xc0)\\xa2\\x1e\\xc0)\\x00\\x1c\\x00\\x01\\x00\\x02\\xa3\\x00\\x00\\x10 \\x01\\x05\\x00\\xd97\\x00\\x00\\x00\\x00\\x00\\x00\\x00\\x00\\x000\\xc0I\\x00\\x01\\x00\\x01\\x00\\x02\\xa3\\x00\\x00\\x04\\xc00O\\x1e\\xc0I\\x00\\x1c\\x00\\x01\\x00\\x02\\xa3\\x00\\x00\\x10 \\x01\\x05\\x02p\\x94\\x00\\x00\\x00\\x00\\x00\\x00\\x00\\x00\\x000\\xc0Y\\x00\\x01\\x00\\x01\\x00\\x02\\xa3\\x00\\x00\\x04\\xc06p\\x1e\\xc0Y\\x00\\x1c\\x00\\x01\\x00\\x02\\xa3\\x00\\x00\\x10 \\x01\\x05\\x02\\x08\\xcc\\x00\\x00\\x00\\x00\\x00\\x00\\x00\\x00\\x000\\xc0i\\x00\\x01\\x00\\x01\\x00\\x02\\xa3\\x00\\x00\\x04\\xc0\\x1fP\\x1e\\xc0i\\x00\\x1c\\x00\\x01\\x00\\x02\\xa3\\x00\\x00\\x10 \\x01\\x05\\x00\\x85n\\x00\\x00\\x00\\x00\\x00\\x00\\x00\\x00\\x000\\xc0y\\x00\\x01\\x00\\x01\\x00\\x02\\xa3\\x00\\x00\\x04\\xc0!\\x0e\\x1e\\xc0y\\x00\\x1c\\x00\\x01\\x00\\x02\\xa3\\x00\\x00\\x10 \\x01\\x05\\x03#\\x1d\\x00\\x00\\x00\\x00\\x00\\x00\\x00\\x02\\x000\\xc0\\x89\\x00\\x01\\x00\\x01\\x00\\x02\\xa3\\x00\\x00\\x04\\xc0#3\\x1e'\n"
     ]
    }
   ],
   "source": [
    "client_socket = socket.socket(socket.AF_INET, socket.SOCK_DGRAM)\n",
    "bytes_sent = client_socket.sendto(packet[0], (root_servers, 53))\n",
    "response_data, _ = client_socket.recvfrom(4096)\n",
    "print(response_data)"
   ]
  },
  {
   "cell_type": "code",
   "execution_count": 33,
   "id": "55cee89c",
   "metadata": {},
   "outputs": [
    {
     "name": "stdout",
     "output_type": "stream",
     "text": [
      "8059 33280 1 0 13\n"
     ]
    }
   ],
   "source": [
    "# 수신받은 데이터 파싱\n",
    "current_offset = 0 \n",
    "\n",
    "# 헤더 파싱\n",
    "transecID, Flags, QDCOUNT, ANCOUNT, NSCOUNT, ARCOUNT = struct.unpack('!HHHHHH', response_data[0:12])\n",
    "current_offset += 12\n",
    "# 헤더 12 바이트 처리 후 오프셋 업데이트\n",
    "\n",
    "print(transecID, Flags, QDCOUNT, ANCOUNT, NSCOUNT)\n"
   ]
  },
  {
   "cell_type": "code",
   "execution_count": null,
   "id": "a087a06b",
   "metadata": {},
   "outputs": [
    {
     "name": "stdout",
     "output_type": "stream",
     "text": [
      "['example', 'com']\n",
      "1 1\n"
     ]
    }
   ],
   "source": [
    "dns_parts = []\n",
    "# 이 코드는 POC이므로 개념 증명 패싱. 이 코드는 재귀적 리졸빙을 순서대로 오차없이 구현이 목표\n",
    "while True:\n",
    "    label_length = response_data[current_offset]\n",
    "    current_offset += 1\n",
    "    \n",
    "    if label_length == 0:\n",
    "        break\n",
    "    \n",
    "    # 압축 포인터 무시(POC)\n",
    "    label = response_data[current_offset:current_offset + label_length].decode('ascii')\n",
    "    dns_parts.append(label)\n",
    "    current_offset += label_length\n",
    "    \n",
    "qtype, qclass = struct.unpack('!HH', response_data[current_offset:current_offset + 4])\n",
    "current_offset += 4\n",
    "\n",
    "print(dns_parts)\n",
    "print(qtype, qclass)"
   ]
  },
  {
   "cell_type": "code",
   "execution_count": 36,
   "id": "1f72adc4",
   "metadata": {},
   "outputs": [
    {
     "name": "stdout",
     "output_type": "stream",
     "text": [
      "current_offset 29\n"
     ]
    }
   ],
   "source": [
    "current_offset\n",
    "print('current_offset', current_offset)\n",
    "# 12(headers) + 13(example.com) + 4(QS) "
   ]
  },
  {
   "cell_type": "code",
   "execution_count": null,
   "id": "84169579",
   "metadata": {},
   "outputs": [],
   "source": []
  }
 ],
 "metadata": {
  "kernelspec": {
   "display_name": "Python 3",
   "language": "python",
   "name": "python3"
  },
  "language_info": {
   "codemirror_mode": {
    "name": "ipython",
    "version": 3
   },
   "file_extension": ".py",
   "mimetype": "text/x-python",
   "name": "python",
   "nbconvert_exporter": "python",
   "pygments_lexer": "ipython3",
   "version": "3.12.1"
  }
 },
 "nbformat": 4,
 "nbformat_minor": 5
}
